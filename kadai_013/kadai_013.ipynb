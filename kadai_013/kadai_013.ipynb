{
  "nbformat": 4,
  "nbformat_minor": 0,
  "metadata": {
    "colab": {
      "provenance": []
    },
    "kernelspec": {
      "name": "python3",
      "display_name": "Python 3"
    },
    "language_info": {
      "name": "python"
    }
  },
  "cells": [
    {
      "cell_type": "code",
      "execution_count": 1,
      "metadata": {
        "colab": {
          "base_uri": "https://localhost:8080/"
        },
        "id": "Jete62LaLqAl",
        "outputId": "5f871a12-cd80-4caf-afb9-cdb2ce08e86b"
      },
      "outputs": [
        {
          "output_type": "stream",
          "name": "stdout",
          "text": [
            "消費税を含めた合計金額: 121.0円\n"
          ]
        }
      ],
      "source": [
        "def calculate_tax(price, tax_rate):\n",
        "    tax_amount = price * (tax_rate / 100)  # 消費税の計算\n",
        "    total_price = price + tax_amount  # 消費税を加えた合計金額\n",
        "    return total_price  # 結果を返す\n",
        "\n",
        "# 関数を使用する\n",
        "price = 110\n",
        "tax_rate = 10\n",
        "total = calculate_tax(price, tax_rate)\n",
        "\n",
        "print(f\"消費税を含めた合計金額: {total}円\")  # 結果を表示"
      ]
    }
  ]
}