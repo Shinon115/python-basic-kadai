{
  "nbformat": 4,
  "nbformat_minor": 0,
  "metadata": {
    "colab": {
      "provenance": []
    },
    "kernelspec": {
      "name": "python3",
      "display_name": "Python 3"
    },
    "language_info": {
      "name": "python"
    }
  },
  "cells": [
    {
      "cell_type": "code",
      "source": [
        "# 変数を定義\n",
        "上底 = 10\n",
        "下底 = 20\n",
        "高さ = 5\n",
        "\n",
        "# 面積を計算\n",
        "面積 = (上底 + 下底) * 高さ / 2\n",
        "\n",
        "# 結果を出力\n",
        "print(f\" {面積} cm²\")\n"
      ],
      "metadata": {
        "colab": {
          "base_uri": "https://localhost:8080/"
        },
        "id": "lY8AvI25WTL5",
        "outputId": "c49d5ebd-007c-40a9-dd48-ffe2b1d91ee2"
      },
      "execution_count": 11,
      "outputs": [
        {
          "output_type": "stream",
          "name": "stdout",
          "text": [
            " 75.0 cm²\n"
          ]
        }
      ]
    }
  ]
}