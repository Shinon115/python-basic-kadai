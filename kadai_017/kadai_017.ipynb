{
  "nbformat": 4,
  "nbformat_minor": 0,
  "metadata": {
    "colab": {
      "provenance": []
    },
    "kernelspec": {
      "name": "python3",
      "display_name": "Python 3"
    },
    "language_info": {
      "name": "python"
    }
  },
  "cells": [
    {
      "cell_type": "code",
      "execution_count": 3,
      "metadata": {
        "colab": {
          "base_uri": "https://localhost:8080/"
        },
        "id": "AYoU8jb36_-2",
        "outputId": "1b6169a6-668a-43da-a2be-c544158a4022"
      },
      "outputs": [
        {
          "output_type": "stream",
          "name": "stdout",
          "text": [
            "シノザキは大人です\n",
            "トヨタは大人ではありません\n",
            "ホンダは大人です\n"
          ]
        }
      ],
      "source": [
        "class Human:\n",
        "    def __init__(self, name, age):\n",
        "        self.name = name\n",
        "        self.age = age\n",
        "\n",
        "    def check_adult(self):\n",
        "        return f\"{self.name}は{'大人です' if self.age >= 20 else '大人ではありません'}\"\n",
        "\n",
        "# ヒューマンのデータをディクショナリに格納\n",
        "humans_dict = {\n",
        "    \"person1\": Human(\"シノザキ\", 50),\n",
        "    \"person2\": Human(\"トヨタ\", 18),\n",
        "    \"person3\": Human(\"ホンダ\", 20),\n",
        "}\n",
        "\n",
        "# チェック関数を作成\n",
        "def check_all_adults(humans):\n",
        "    for key, human in humans.items():\n",
        "        print(human.check_adult())\n",
        "\n",
        "# 関数を呼び出してチェック実行\n",
        "check_all_adults(humans_dict)"
      ]
    }
  ]
}