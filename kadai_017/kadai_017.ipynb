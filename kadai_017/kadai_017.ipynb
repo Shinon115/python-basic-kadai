{
  "nbformat": 4,
  "nbformat_minor": 0,
  "metadata": {
    "colab": {
      "provenance": []
    },
    "kernelspec": {
      "name": "python3",
      "display_name": "Python 3"
    },
    "language_info": {
      "name": "python"
    }
  },
  "cells": [
    {
      "cell_type": "code",
      "source": [
        "class Human:\n",
        "    def __init__(self, name, age):\n",
        "        self.name = name\n",
        "        self.age = age\n",
        "\n",
        "    def check_adult(self):\n",
        "        return f\"{self.name}は{'大人です' if self.age >= 20 else '大人ではありません'}\"\n",
        "\n",
        "# ヒューマンのデータをリストに格納\n",
        "humans_list = [\n",
        "    Human(\"シノザキ\", 50),\n",
        "    Human(\"トヨタ\", 18),\n",
        "    Human(\"ホンダ\", 20),\n",
        "]\n",
        "\n",
        "# 関数を呼び出してチェック実行\n",
        "check_all_adults(humans_list)"
      ],
      "metadata": {
        "colab": {
          "base_uri": "https://localhost:8080/"
        },
        "id": "T_0FA0FY-ab_",
        "outputId": "c75d5e43-62ef-40b1-c46e-dba778162c64"
      },
      "execution_count": 11,
      "outputs": [
        {
          "output_type": "stream",
          "name": "stdout",
          "text": [
            "シノザキは大人です\n",
            "トヨタは大人ではありません\n",
            "ホンダは大人です\n"
          ]
        }
      ]
    }
  ]
}