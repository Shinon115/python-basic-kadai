{
  "nbformat": 4,
  "nbformat_minor": 0,
  "metadata": {
    "colab": {
      "provenance": []
    },
    "kernelspec": {
      "name": "python3",
      "display_name": "Python 3"
    },
    "language_info": {
      "name": "python"
    }
  },
  "cells": [
    {
      "cell_type": "code",
      "source": [
        "class Human:\n",
        "    def __init__(self, name, age):\n",
        "        self.name = name\n",
        "        self.age = age\n",
        "\n",
        "    def check_adult(self):\n",
        "        print(f\"{self.name}は{'大人です' if self.age >= 20 else '大人ではありません'}\")\n",
        "\n",
        "# ヒューマンのデータをリストに格納\n",
        "humans_list = [\n",
        "    Human(\"シノザキ\", 50),\n",
        "    Human(\"トヨタ\", 18),\n",
        "    Human(\"ホンダ\", 20),\n",
        "]\n",
        "\n",
        "# ループ内でメソッドを呼び出す\n",
        "for human in humans_list:\n",
        "    human.check_adult()"
      ],
      "metadata": {
        "colab": {
          "base_uri": "https://localhost:8080/"
        },
        "id": "kK_lW0UVCO-L",
        "outputId": "3b4dac73-e63d-430f-9686-fc09dc5d71fa"
      },
      "execution_count": 13,
      "outputs": [
        {
          "output_type": "stream",
          "name": "stdout",
          "text": [
            "シノザキは大人です\n",
            "トヨタは大人ではありません\n",
            "ホンダは大人です\n"
          ]
        }
      ]
    }
  ]
}