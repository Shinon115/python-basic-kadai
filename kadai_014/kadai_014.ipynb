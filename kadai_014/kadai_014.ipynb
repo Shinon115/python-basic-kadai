{
  "nbformat": 4,
  "nbformat_minor": 0,
  "metadata": {
    "colab": {
      "provenance": []
    },
    "kernelspec": {
      "name": "python3",
      "display_name": "Python 3"
    },
    "language_info": {
      "name": "python"
    }
  },
  "cells": [
    {
      "cell_type": "code",
      "execution_count": 1,
      "metadata": {
        "colab": {
          "base_uri": "https://localhost:8080/"
        },
        "id": "1MOHw5XKxw3P",
        "outputId": "8106be8e-570b-4c9f-87e7-68e4a8aa7943"
      },
      "outputs": [
        {
          "output_type": "stream",
          "name": "stdout",
          "text": [
            "330.0\n"
          ]
        }
      ],
      "source": [
        "price1 = 100\n",
        "price2 = 200\n",
        "tax = 1.1  # グローバルスコープに移動\n",
        "\n",
        "def total():\n",
        "    return price1 + price2  # グローバル変数を利用\n",
        "\n",
        "print(total() * tax)  # 正しく計算"
      ]
    }
  ]
}