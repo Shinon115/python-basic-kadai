{
  "nbformat": 4,
  "nbformat_minor": 0,
  "metadata": {
    "colab": {
      "provenance": []
    },
    "kernelspec": {
      "name": "python3",
      "display_name": "Python 3"
    },
    "language_info": {
      "name": "python"
    }
  },
  "cells": [
    {
      "cell_type": "code",
      "execution_count": 2,
      "metadata": {
        "colab": {
          "base_uri": "https://localhost:8080/"
        },
        "id": "GAx5qS3G22Bu",
        "outputId": "7635c5a2-7d8b-48c2-b141-6d6561afbaf3"
      },
      "outputs": [
        {
          "output_type": "stream",
          "name": "stdout",
          "text": [
            "名前: シノザキ, 年齢: 50\n"
          ]
        }
      ],
      "source": [
        "class Human:\n",
        "    def __init__(self, name, age):\n",
        "        self.name = name  # 名前の属性\n",
        "        self.age = age    # 年齢の属性\n",
        "\n",
        "    def printinfo(self):\n",
        "        print(f\"名前: {self.name}, 年齢: {self.age}\")\n",
        "\n",
        "# インスタンスの作成\n",
        "person = Human(\"シノザキ\", 50)\n",
        "\n",
        "# メソッドを使用して情報を出力\n",
        "person.printinfo()"
      ]
    }
  ]
}